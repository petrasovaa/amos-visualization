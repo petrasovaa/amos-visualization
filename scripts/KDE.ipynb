{
 "metadata": {
  "name": ""
 },
 "nbformat": 3,
 "nbformat_minor": 0,
 "worksheets": [
  {
   "cells": [
    {
     "cell_type": "code",
     "collapsed": false,
     "input": [
      "import numpy as np\n",
      "from scipy import stats\n",
      "import grass.script as gscript\n",
      "from grass.script import array as garray\n",
      "\n",
      "data = np.loadtxt('people_10823.txt', delimiter='|')\n",
      "values = data[:, 0:3].T\n",
      "kde = stats.gaussian_kde(values)\n"
     ],
     "language": "python",
     "metadata": {},
     "outputs": []
    },
    {
     "cell_type": "code",
     "collapsed": false,
     "input": [
      "# g.region t=1200 b=400 tbres=80 res3=10 -p3 res=1\n",
      "xi, yi, zi = np.mgrid[5:635:64j, 475:5:48j, 440:1160:10j]\n",
      "coords = np.vstack([item.ravel() for item in [xi, yi, zi]])"
     ],
     "language": "python",
     "metadata": {},
     "outputs": []
    },
    {
     "cell_type": "code",
     "collapsed": false,
     "input": [
      "density = kde(coords)\n",
      "density = density.reshape(xi.shape)"
     ],
     "language": "python",
     "metadata": {},
     "outputs": []
    },
    {
     "cell_type": "code",
     "collapsed": false,
     "input": [
      "\n",
      "map3d_10823 = garray.array3d()\n",
      "for z in range(map3d_10823.shape[0]):\n",
      "    for y in range(map3d_10823.shape[1]):\n",
      "        for x in range(map3d_10823.shape[2]):\n",
      "            map3d_10823[z,y,x] = density[x, y, z]"
     ],
     "language": "python",
     "metadata": {},
     "outputs": []
    },
    {
     "cell_type": "code",
     "collapsed": false,
     "input": [
      "map3d_10823.write(mapname=\"map3d_10823\", overwrite=True)"
     ],
     "language": "python",
     "metadata": {},
     "outputs": []
    }
   ],
   "metadata": {}
  }
 ]
}