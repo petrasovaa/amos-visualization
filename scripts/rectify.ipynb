{
 "metadata": {
  "name": ""
 },
 "nbformat": 3,
 "nbformat_minor": 0,
 "worksheets": [
  {
   "cells": [
    {
     "cell_type": "code",
     "collapsed": false,
     "input": [
      "import copy\n",
      "import math\n",
      "\n",
      "import numpy as np\n",
      "from numpy.linalg import inv\n",
      "\n",
      "from skimage import transform as tf\n",
      "from skimage import io\n",
      "\n",
      "import grass.script as gscript\n",
      "from grass.script import array as garray"
     ],
     "language": "python",
     "metadata": {},
     "outputs": [],
     "prompt_number": 48
    },
    {
     "cell_type": "code",
     "collapsed": false,
     "input": [
      "im = io.imread('/home/anna/Documents/Projects/Hipp_STC/pictures/camera_9955.jpg')"
     ],
     "language": "python",
     "metadata": {},
     "outputs": [
      {
       "output_type": "stream",
       "stream": "stdout",
       "text": [
        "(480, 640, 3)\n"
       ]
      }
     ],
     "prompt_number": 49
    },
    {
     "cell_type": "code",
     "collapsed": false,
     "input": [
      "dst = np.array((\n",
      "(458.018387, 151.694736), \n",
      "(49.573341, 136.87887),\n",
      "(101.722019, 218.340527),\n",
      "(621.549653, 243.89273),\n",
      "(330.494088, 183.206247),\n",
      "(581.225082, 140.086904),\n",
      "(288.971758, 268.646427),\n",
      "(40.071481, 186.059015),\n",
      "(125.698245, 223.043346),\n",
      "(550.20581, 245.02926)\n",
      "))\n",
      "\n",
      "dst[:, 1] = im.shape[0] - dst[:, 1]\n",
      "\n",
      "src = np.array(((557017.666939, 5533510.90344),\n",
      "                (556984.233666, 5533500.45554),\n",
      "                (556985.446273, 5533533.8606),\n",
      "                (557052.614491, 5533543.83213),\n",
      "                (557004.272519, 5533522.77226),\n",
      "                (557027.087377, 5533507.93463),\n",
      "                (557006.506142, 5533563.93473),\n",
      "                (556981.936295, 5533521.97454),\n",
      "                (556987.360807, 5533537.76944),\n",
      "                (557041.925012, 5533549.57573)\n",
      "                ))\n",
      "\n",
      "centerx, centery = np.min(src[:, 0]), np.min(src[:, 1])\n",
      "src[:, 0] -= centerx\n",
      "src[:, 1] -= centery\n",
      "revers = 200\n",
      "src[:, 1] = revers - src[:, 1]"
     ],
     "language": "python",
     "metadata": {},
     "outputs": [
      {
       "output_type": "stream",
       "stream": "stdout",
       "text": [
        "[[ 458.018387  328.305264]\n",
        " [  49.573341  343.12113 ]\n",
        " [ 101.722019  261.659473]\n",
        " [ 621.549653  236.10727 ]\n",
        " [ 330.494088  296.793753]\n",
        " [ 581.225082  339.913096]\n",
        " [ 288.971758  211.353573]\n",
        " [  40.071481  293.940985]\n",
        " [ 125.698245  256.956654]\n",
        " [ 550.20581   234.97074 ]]\n"
       ]
      }
     ],
     "prompt_number": 50
    },
    {
     "cell_type": "code",
     "collapsed": false,
     "input": [
      "tform3 = tf.ProjectiveTransform()\n",
      "tform3.estimate(src, dst)\n",
      "warped = tf.warp(im, tform3)"
     ],
     "language": "python",
     "metadata": {},
     "outputs": [],
     "prompt_number": 51
    },
    {
     "cell_type": "code",
     "collapsed": false,
     "input": [
      "\n",
      "gscript.run_command('g.region', w=centerx, e=centerx + im.shape[1],\n",
      "                    n=centery + revers, s=centery - im.shape[0] + revers, res=1)\n",
      "\n",
      "name = 'rectified'\n",
      "for num, color in zip([0, 1, 2], 'rgb'):\n",
      "    rectified = garray.array()\n",
      "    for y in range(rectified.shape[0]):\n",
      "        for x in range(rectified.shape[1]):\n",
      "            rectified[y,x] = round(255 * warped[y, x, num])\n",
      "    rectified.write(mapname=name + '_' + color, overwrite=True)\n",
      "gscript.run_command('r.colors', map=[name + '_r', name + '_g', name + '_b'], color='grey')\n",
      "gscript.run_command('r.composite', red=name + '_r', green=name + '_g', blue=name + '_b',\n",
      "                    output=name, overwrite=True)"
     ],
     "language": "python",
     "metadata": {},
     "outputs": [
      {
       "metadata": {},
       "output_type": "pyout",
       "prompt_number": 52,
       "text": [
        "0"
       ]
      }
     ],
     "prompt_number": 52
    },
    {
     "cell_type": "code",
     "collapsed": false,
     "input": [
      "H = inv(tform3.params)\n",
      "new = []\n",
      "for point in dst:\n",
      "    Z = float(point[0]) * H[2, 0] + point[1] * H[2, 1] + H[2, 2]\n",
      "    X = (point[0] * H[0, 0] + point[1] * H[0, 1] + H[0, 2]) / Z\n",
      "    Y = (point[0] * H[1, 0] + point[1] * H[1, 1] + H[1, 2]) / Z\n",
      "    X += centerx\n",
      "    Y = revers - Y + centery\n",
      "    new.append((X, Y))\n",
      "\n",
      "gscript.write_command('v.in.ascii', input='-',\n",
      "                      output='rectified_points', overwrite=True,\n",
      "                      stdin='\\n'.join(['{}|{}'.format(X, Y) for X, Y in new]))"
     ],
     "language": "python",
     "metadata": {},
     "outputs": [
      {
       "metadata": {},
       "output_type": "pyout",
       "prompt_number": 66,
       "text": [
        "0"
       ]
      }
     ],
     "prompt_number": 66
    }
   ],
   "metadata": {}
  }
 ]
}